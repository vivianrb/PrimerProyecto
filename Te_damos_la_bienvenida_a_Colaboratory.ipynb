   {
      "cell_type": "code",
      "source": [
        "import graphviz\n",
        "\n",
        "# Crear un diagrama de flujo\n",
        "flowchart = graphviz.Digraph(format='png')\n",
        "flowchart.attr(rankdir='TB', size='8')\n",
        "\n",
        "# Nodos del proceso\n",
        "flowchart.node('A', 'Inicio')\n",
        "flowchart.node('B', 'Funcionario llena el formulario')\n",
        "flowchart.node('C', 'Solicita V°B° del jefe inmediato')\n",
        "flowchart.node('D', 'Formulario es firmado por jefe inmediato')\n",
        "flowchart.node('E', 'Funcionario presenta formulario al Oficial de Seguridad al salir')\n",
        "flowchart.node('F', 'Oficial de Seguridad firma en área de \"Salida\"')\n",
        "flowchart.node('G', 'Funcionario guarda el formulario firmado')\n",
        "flowchart.node('H1', '¿Uso para teletrabajo?')\n",
        "flowchart.node('I1', 'Se actualiza el Sistema de Control de Activos')\n",
        "flowchart.node('I2', 'Formulario se guarda en carpeta\\n\"Salida de Activos\"')\n",
        "flowchart.node('J', 'Equipo es utilizado')\n",
        "flowchart.node('K', 'Funcionario regresa con el equipo')\n",
        "flowchart.node('L', 'Presenta formulario al Oficial de Seguridad')\n",
        "flowchart.node('M', 'Oficial verifica equipo y firma en área \"Ingreso\"')\n",
        "flowchart.node('N', 'Funcionario entrega formulario a su jefatura')\n",
        "flowchart.node('O', 'Fin')\n",
        "\n",
        "# Conexiones entre los pasos\n",
        "flowchart.edges([\n",
        "    ('A', 'B'),\n",
        "    ('B', 'C'),\n",
        "    ('C', 'D'),\n",
        "    ('D', 'E'),\n",
        "    ('E', 'F'),\n",
        "    ('F', 'G'),\n",
        "    ('G', 'H1')\n",
        "])\n",
        "\n",
        "flowchart.edge('H1', 'I1', label='Sí')\n",
        "flowchart.edge('H1', 'I2', label='No')\n",
        "flowchart.edge('I1', 'J')\n",
        "flowchart.edge('I2', 'J')\n",
        "flowchart.edge('J', 'K')\n",
        "flowchart.edge('K', 'L')\n",
        "flowchart.edge('L', 'M')\n",
        "flowchart.edge('M', 'N')\n",
        "flowchart.edge('N', 'O')\n",
        "\n",
        "# Exportar y visualizar\n",
        "flowchart.render('control_salida_ingreso_equipos', view=True)\n"
      ],
      "metadata": {
        "id": "QJNuMu1Sd7s4",
        "outputId": "acd1e15e-5636-42b5-ea32-43566ef09488",
        "colab": {
          "base_uri": "https://localhost:8080/",
          "height": 35
        }
      },
      "execution_count": 1,
      "outputs": [
        {
          "output_type": "execute_result",
          "data": {
            "text/plain": [
              "'control_salida_ingreso_equipos.png'"
            ],
            "application/vnd.google.colaboratory.intrinsic+json": {
              "type": "string"
            }
          },
          "metadata": {},
          "execution_count": 1
        }
      ]
    },
    {
      "cell_type": "code",
      "source": [
        "# Instalar Graphviz si no está instalado\n",
        "!pip install graphviz\n",
        "\n",
        "# Importar la biblioteca\n",
        "import graphviz\n",
        "\n",
        "# Crear un diagrama de flujo con Graphviz\n",
        "dot = graphviz.Digraph(format='png')\n",
        "dot.attr(rankdir='TB', size='8')\n",
        "\n",
        "# Nodos del procedimiento\n",
        "dot.node('A', 'Inicio')\n",
        "dot.node('B', 'Funcionario que entrega completa el formulario de traslado')\n",
        "dot.node('C', 'Jefatura revisa y aprueba con firma')\n",
        "dot.node('D', 'Funcionario presenta el equipo y formulario al receptor')\n",
        "dot.node('E', 'Funcionario receptor valida el equipo y firma')\n",
        "dot.node('F', 'Formulario se entrega al Encargado de Control de Activos')\n",
        "dot.node('G', 'Encargado actualiza el registro de activos')\n",
        "dot.node('H', 'Formulario se digitaliza y guarda en carpeta compartida')\n",
        "dot.node('I', 'Fin')\n",
        "\n",
        "# Conexiones\n",
        "dot.edges([\n",
        "    ('A', 'B'),\n",
        "    ('B', 'C'),\n",
        "    ('C', 'D'),\n",
        "    ('D', 'E'),\n",
        "    ('E', 'F'),\n",
        "    ('F', 'G'),\n",
        "    ('G', 'H'),\n",
        "    ('H', 'I')\n",
        "])\n",
        "\n",
        "# Mostrar el diagrama\n",
        "dot.render('diagrama_traslado_equipos', view=True)\n",
        "dot\n"
      ],
      "metadata": {
        "id": "HAFUFRnqeDln",
        "outputId": "f1a59dcb-2fa3-4526-af2b-3a798769b9da",
        "colab": {
          "base_uri": "https://localhost:8080/",
          "height": 807
        }
      },
      "execution_count": 2,
      "outputs": [
        {
          "output_type": "stream",
          "name": "stdout",
          "text": [
            "Requirement already satisfied: graphviz in /usr/local/lib/python3.12/dist-packages (0.21)\n"
          ]
        },
        {
          "output_type": "execute_result",
          "data": {
            "image/svg+xml": "<?xml version=\"1.0\" encoding=\"UTF-8\" standalone=\"no\"?>\n<!DOCTYPE svg PUBLIC \"-//W3C//DTD SVG 1.1//EN\"\n \"http://www.w3.org/Graphics/SVG/1.1/DTD/svg11.dtd\">\n<!-- Generated by graphviz version 2.43.0 (0)\n -->\n<!-- Title: %3 Pages: 1 -->\n<svg width=\"419pt\" height=\"576pt\"\n viewBox=\"0.00 0.00 419.24 576.00\" xmlns=\"http://www.w3.org/2000/svg\" xmlns:xlink=\"http://www.w3.org/1999/xlink\">\n<g id=\"graph0\" class=\"graph\" transform=\"scale(0.93 0.93) rotate(0) translate(4 616)\">\n<title>%3</title>\n<polygon fill=\"white\" stroke=\"transparent\" points=\"-4,4 -4,-616 447.26,-616 447.26,4 -4,4\"/>\n<!-- A -->\n<g id=\"node1\" class=\"node\">\n<title>A</title>\n<ellipse fill=\"none\" stroke=\"black\" cx=\"221.63\" cy=\"-594\" rx=\"31.4\" ry=\"18\"/>\n<text text-anchor=\"middle\" x=\"221.63\" y=\"-590.3\" font-family=\"Times,serif\" font-size=\"14.00\">Inicio</text>\n</g>\n<!-- B -->\n<g id=\"node2\" class=\"node\">\n<title>B</title>\n<ellipse fill=\"none\" stroke=\"black\" cx=\"221.63\" cy=\"-522\" rx=\"221.76\" ry=\"18\"/>\n<text text-anchor=\"middle\" x=\"221.63\" y=\"-518.3\" font-family=\"Times,serif\" font-size=\"14.00\">Funcionario que entrega completa el formulario de traslado</text>\n</g>\n<!-- A&#45;&gt;B -->\n<g id=\"edge1\" class=\"edge\">\n<title>A&#45;&gt;B</title>\n<path fill=\"none\" stroke=\"black\" d=\"M221.63,-575.7C221.63,-567.98 221.63,-558.71 221.63,-550.11\"/>\n<polygon fill=\"black\" stroke=\"black\" points=\"225.13,-550.1 221.63,-540.1 218.13,-550.1 225.13,-550.1\"/>\n</g>\n<!-- C -->\n<g id=\"node3\" class=\"node\">\n<title>C</title>\n<ellipse fill=\"none\" stroke=\"black\" cx=\"221.63\" cy=\"-450\" rx=\"135.68\" ry=\"18\"/>\n<text text-anchor=\"middle\" x=\"221.63\" y=\"-446.3\" font-family=\"Times,serif\" font-size=\"14.00\">Jefatura revisa y aprueba con firma</text>\n</g>\n<!-- B&#45;&gt;C -->\n<g id=\"edge2\" class=\"edge\">\n<title>B&#45;&gt;C</title>\n<path fill=\"none\" stroke=\"black\" d=\"M221.63,-503.7C221.63,-495.98 221.63,-486.71 221.63,-478.11\"/>\n<polygon fill=\"black\" stroke=\"black\" points=\"225.13,-478.1 221.63,-468.1 218.13,-478.1 225.13,-478.1\"/>\n</g>\n<!-- D -->\n<g id=\"node4\" class=\"node\">\n<title>D</title>\n<ellipse fill=\"none\" stroke=\"black\" cx=\"221.63\" cy=\"-378\" rx=\"207.16\" ry=\"18\"/>\n<text text-anchor=\"middle\" x=\"221.63\" y=\"-374.3\" font-family=\"Times,serif\" font-size=\"14.00\">Funcionario presenta el equipo y formulario al receptor</text>\n</g>\n<!-- C&#45;&gt;D -->\n<g id=\"edge3\" class=\"edge\">\n<title>C&#45;&gt;D</title>\n<path fill=\"none\" stroke=\"black\" d=\"M221.63,-431.7C221.63,-423.98 221.63,-414.71 221.63,-406.11\"/>\n<polygon fill=\"black\" stroke=\"black\" points=\"225.13,-406.1 221.63,-396.1 218.13,-406.1 225.13,-406.1\"/>\n</g>\n<!-- E -->\n<g id=\"node5\" class=\"node\">\n<title>E</title>\n<ellipse fill=\"none\" stroke=\"black\" cx=\"221.63\" cy=\"-306\" rx=\"172.47\" ry=\"18\"/>\n<text text-anchor=\"middle\" x=\"221.63\" y=\"-302.3\" font-family=\"Times,serif\" font-size=\"14.00\">Funcionario receptor valida el equipo y firma</text>\n</g>\n<!-- D&#45;&gt;E -->\n<g id=\"edge4\" class=\"edge\">\n<title>D&#45;&gt;E</title>\n<path fill=\"none\" stroke=\"black\" d=\"M221.63,-359.7C221.63,-351.98 221.63,-342.71 221.63,-334.11\"/>\n<polygon fill=\"black\" stroke=\"black\" points=\"225.13,-334.1 221.63,-324.1 218.13,-334.1 225.13,-334.1\"/>\n</g>\n<!-- F -->\n<g id=\"node6\" class=\"node\">\n<title>F</title>\n<ellipse fill=\"none\" stroke=\"black\" cx=\"221.63\" cy=\"-234\" rx=\"217.96\" ry=\"18\"/>\n<text text-anchor=\"middle\" x=\"221.63\" y=\"-230.3\" font-family=\"Times,serif\" font-size=\"14.00\">Formulario se entrega al Encargado de Control de Activos</text>\n</g>\n<!-- E&#45;&gt;F -->\n<g id=\"edge5\" class=\"edge\">\n<title>E&#45;&gt;F</title>\n<path fill=\"none\" stroke=\"black\" d=\"M221.63,-287.7C221.63,-279.98 221.63,-270.71 221.63,-262.11\"/>\n<polygon fill=\"black\" stroke=\"black\" points=\"225.13,-262.1 221.63,-252.1 218.13,-262.1 225.13,-262.1\"/>\n</g>\n<!-- G -->\n<g id=\"node7\" class=\"node\">\n<title>G</title>\n<ellipse fill=\"none\" stroke=\"black\" cx=\"221.63\" cy=\"-162\" rx=\"157.87\" ry=\"18\"/>\n<text text-anchor=\"middle\" x=\"221.63\" y=\"-158.3\" font-family=\"Times,serif\" font-size=\"14.00\">Encargado actualiza el registro de activos</text>\n</g>\n<!-- F&#45;&gt;G -->\n<g id=\"edge6\" class=\"edge\">\n<title>F&#45;&gt;G</title>\n<path fill=\"none\" stroke=\"black\" d=\"M221.63,-215.7C221.63,-207.98 221.63,-198.71 221.63,-190.11\"/>\n<polygon fill=\"black\" stroke=\"black\" points=\"225.13,-190.1 221.63,-180.1 218.13,-190.1 225.13,-190.1\"/>\n</g>\n<!-- H -->\n<g id=\"node8\" class=\"node\">\n<title>H</title>\n<ellipse fill=\"none\" stroke=\"black\" cx=\"221.63\" cy=\"-90\" rx=\"209.86\" ry=\"18\"/>\n<text text-anchor=\"middle\" x=\"221.63\" y=\"-86.3\" font-family=\"Times,serif\" font-size=\"14.00\">Formulario se digitaliza y guarda en carpeta compartida</text>\n</g>\n<!-- G&#45;&gt;H -->\n<g id=\"edge7\" class=\"edge\">\n<title>G&#45;&gt;H</title>\n<path fill=\"none\" stroke=\"black\" d=\"M221.63,-143.7C221.63,-135.98 221.63,-126.71 221.63,-118.11\"/>\n<polygon fill=\"black\" stroke=\"black\" points=\"225.13,-118.1 221.63,-108.1 218.13,-118.1 225.13,-118.1\"/>\n</g>\n<!-- I -->\n<g id=\"node9\" class=\"node\">\n<title>I</title>\n<ellipse fill=\"none\" stroke=\"black\" cx=\"221.63\" cy=\"-18\" rx=\"27\" ry=\"18\"/>\n<text text-anchor=\"middle\" x=\"221.63\" y=\"-14.3\" font-family=\"Times,serif\" font-size=\"14.00\">Fin</text>\n</g>\n<!-- H&#45;&gt;I -->\n<g id=\"edge8\" class=\"edge\">\n<title>H&#45;&gt;I</title>\n<path fill=\"none\" stroke=\"black\" d=\"M221.63,-71.7C221.63,-63.98 221.63,-54.71 221.63,-46.11\"/>\n<polygon fill=\"black\" stroke=\"black\" points=\"225.13,-46.1 221.63,-36.1 218.13,-46.1 225.13,-46.1\"/>\n</g>\n</g>\n</svg>\n",
            "text/plain": [
              "<graphviz.graphs.Digraph at 0x7a8332dbf860>"
            ]
          },
          "metadata": {},
          "execution_count": 2
        }
      ]
    }
  ],
  "metadata": {
    "colab": {
      "name": "Te damos la bienvenida a Colaboratory",
      "toc_visible": true,
      "provenance": [],
      "include_colab_link": true
    },
    "kernelspec": {
      "display_name": "Python 3",
      "name": "python3"
    }
  },
  "nbformat": 4,
  "nbformat_minor": 0
}
